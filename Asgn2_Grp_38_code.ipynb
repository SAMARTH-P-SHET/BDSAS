{
  "nbformat": 4,
  "nbformat_minor": 0,
  "metadata": {
    "colab": {
      "provenance": []
    },
    "kernelspec": {
      "name": "python3",
      "display_name": "Python 3"
    },
    "language_info": {
      "name": "python"
    }
  },
  "cells": [
    {
      "cell_type": "code",
      "execution_count": 106,
      "metadata": {
        "id": "Te7Si2NDm4jw"
      },
      "outputs": [],
      "source": [
        "#!pip install pyspark\n"
      ]
    },
    {
      "cell_type": "code",
      "source": [
        "\n",
        "from pyspark.sql.functions import regexp_extract, date_format, to_date, col, countDistinct, count, when\n"
      ],
      "metadata": {
        "id": "yETptW55oF6y"
      },
      "execution_count": 37,
      "outputs": []
    },
    {
      "cell_type": "code",
      "source": [
        "from pyspark.sql import SparkSession\n",
        "\n",
        "# Initialize Spark session\n",
        "spark = SparkSession.builder.appName(\"WebServerLogAnalysis\").getOrCreate()\n"
      ],
      "metadata": {
        "id": "MXMn3w9FnEjY"
      },
      "execution_count": 28,
      "outputs": []
    },
    {
      "cell_type": "code",
      "source": [
        "# Connect to drive to fetch log files\n",
        "from google.colab import drive\n",
        "drive.mount('/content/drive')"
      ],
      "metadata": {
        "colab": {
          "base_uri": "https://localhost:8080/"
        },
        "id": "fbne2sy_2bqr",
        "outputId": "381bbd14-c4eb-4ed5-dec3-258ebb9b7d18"
      },
      "execution_count": 20,
      "outputs": [
        {
          "output_type": "stream",
          "name": "stdout",
          "text": [
            "Drive already mounted at /content/drive; to attempt to forcibly remount, call drive.mount(\"/content/drive\", force_remount=True).\n"
          ]
        }
      ]
    },
    {
      "cell_type": "code",
      "source": [
        "# Load the logs file into a DataFrame\n",
        "# Define file paths\n",
        "log_path_jul = \"/content/drive/My Drive/access_log_Jul95\"\n",
        "log_path_aug = \"/content/drive/My Drive/access_log_Aug95\"\n",
        "\n",
        "# Read both log files\n",
        "df_jul = spark.read.text(log_path_jul)\n",
        "df_aug = spark.read.text(log_path_aug)\n",
        "\n",
        "# Combine both DataFrames\n",
        "log_df = df_jul.union(df_aug)\n",
        "log_df.show(5, truncate=False)  # Display first 5 rows\n"
      ],
      "metadata": {
        "id": "6C_RNh6UnJGd",
        "colab": {
          "base_uri": "https://localhost:8080/"
        },
        "outputId": "4430b677-6eeb-4e9c-8a45-ad6a7047da3a"
      },
      "execution_count": 29,
      "outputs": [
        {
          "output_type": "stream",
          "name": "stdout",
          "text": [
            "+-----------------------------------------------------------------------------------------------------------------------+\n",
            "|value                                                                                                                  |\n",
            "+-----------------------------------------------------------------------------------------------------------------------+\n",
            "|199.72.81.55 - - [01/Jul/1995:00:00:01 -0400] \"GET /history/apollo/ HTTP/1.0\" 200 6245                                 |\n",
            "|unicomp6.unicomp.net - - [01/Jul/1995:00:00:06 -0400] \"GET /shuttle/countdown/ HTTP/1.0\" 200 3985                      |\n",
            "|199.120.110.21 - - [01/Jul/1995:00:00:09 -0400] \"GET /shuttle/missions/sts-73/mission-sts-73.html HTTP/1.0\" 200 4085   |\n",
            "|burger.letters.com - - [01/Jul/1995:00:00:11 -0400] \"GET /shuttle/countdown/liftoff.html HTTP/1.0\" 304 0               |\n",
            "|199.120.110.21 - - [01/Jul/1995:00:00:11 -0400] \"GET /shuttle/missions/sts-73/sts-73-patch-small.gif HTTP/1.0\" 200 4179|\n",
            "+-----------------------------------------------------------------------------------------------------------------------+\n",
            "only showing top 5 rows\n",
            "\n"
          ]
        }
      ]
    },
    {
      "cell_type": "code",
      "source": [
        "# Parsing the log files correctly according to the Common Log Format\n",
        "log_pattern = r'(\\S+) (\\S+) (\\S+) \\[(.*?)\\] \"(.*?)\" (\\d{3}) (\\S+)'\n",
        "\n",
        "parsed_df = log_df.withColumn(\"remotehost\", regexp_extract(col(\"value\"), log_pattern, 1)) \\\n",
        "                  .withColumn(\"rfc931\", regexp_extract(col(\"value\"), log_pattern, 2)) \\\n",
        "                  .withColumn(\"authuser\", regexp_extract(col(\"value\"), log_pattern, 3)) \\\n",
        "                  .withColumn(\"date\", regexp_extract(col(\"value\"), log_pattern, 4)) \\\n",
        "                  .withColumn(\"request\", regexp_extract(col(\"value\"), log_pattern, 5)) \\\n",
        "                  .withColumn(\"status\", regexp_extract(col(\"value\"), log_pattern, 6).cast(\"int\")) \\\n",
        "                  .withColumn(\"bytes\", regexp_extract(col(\"value\"), log_pattern, 7).cast(\"int\")) \\\n",
        "                  .drop(\"value\")  # Remove original column\n",
        "\n",
        "parsed_df.show(5)"
      ],
      "metadata": {
        "colab": {
          "base_uri": "https://localhost:8080/"
        },
        "id": "Zn7cFoqRoYPD",
        "outputId": "978e328e-705e-42aa-c44a-6e0a0675013c"
      },
      "execution_count": 30,
      "outputs": [
        {
          "output_type": "stream",
          "name": "stdout",
          "text": [
            "+--------------------+------+--------+--------------------+--------------------+------+-----+\n",
            "|          remotehost|rfc931|authuser|                date|             request|status|bytes|\n",
            "+--------------------+------+--------+--------------------+--------------------+------+-----+\n",
            "|        199.72.81.55|     -|       -|01/Jul/1995:00:00...|GET /history/apol...|   200| 6245|\n",
            "|unicomp6.unicomp.net|     -|       -|01/Jul/1995:00:00...|GET /shuttle/coun...|   200| 3985|\n",
            "|      199.120.110.21|     -|       -|01/Jul/1995:00:00...|GET /shuttle/miss...|   200| 4085|\n",
            "|  burger.letters.com|     -|       -|01/Jul/1995:00:00...|GET /shuttle/coun...|   304|    0|\n",
            "|      199.120.110.21|     -|       -|01/Jul/1995:00:00...|GET /shuttle/miss...|   200| 4179|\n",
            "+--------------------+------+--------+--------------------+--------------------+------+-----+\n",
            "only showing top 5 rows\n",
            "\n"
          ]
        }
      ]
    },
    {
      "cell_type": "code",
      "source": [
        "# Handling Missing and Malformed Data\n",
        "\n",
        "df_cleaned = parsed_df.withColumn(\n",
        "    \"bytes\", when(col(\"bytes\") == \"-\", \"0\").otherwise(col(\"bytes\")).cast(\"int\")\n",
        ")\n",
        "df_cleaned = df_cleaned.replace(\"-\", None, subset=[\"rfc931\", \"authuser\"])\n",
        "df_cleaned = df_cleaned.filter(col(\"remotehost\").isNotNull() & col(\"date\").isNotNull())\n",
        "\n",
        "df_cleaned.show(5)"
      ],
      "metadata": {
        "colab": {
          "base_uri": "https://localhost:8080/"
        },
        "id": "sq1BIwik9974",
        "outputId": "556b18ae-7f41-4ae0-a270-8f656939d7b9"
      },
      "execution_count": 90,
      "outputs": [
        {
          "output_type": "stream",
          "name": "stdout",
          "text": [
            "+--------------------+------+--------+--------------------+--------------------+------+-----+\n",
            "|          remotehost|rfc931|authuser|                date|             request|status|bytes|\n",
            "+--------------------+------+--------+--------------------+--------------------+------+-----+\n",
            "|        199.72.81.55|  NULL|    NULL|01/Jul/1995:00:00...|GET /history/apol...|   200| 6245|\n",
            "|unicomp6.unicomp.net|  NULL|    NULL|01/Jul/1995:00:00...|GET /shuttle/coun...|   200| 3985|\n",
            "|      199.120.110.21|  NULL|    NULL|01/Jul/1995:00:00...|GET /shuttle/miss...|   200| 4085|\n",
            "|  burger.letters.com|  NULL|    NULL|01/Jul/1995:00:00...|GET /shuttle/coun...|   304|    0|\n",
            "|      199.120.110.21|  NULL|    NULL|01/Jul/1995:00:00...|GET /shuttle/miss...|   200| 4179|\n",
            "+--------------------+------+--------+--------------------+--------------------+------+-----+\n",
            "only showing top 5 rows\n",
            "\n"
          ]
        }
      ]
    },
    {
      "cell_type": "code",
      "source": [
        "# Structuring the data into a format suitable for analysis and presentation\n",
        "\n",
        "# Extract only the \"dd/MMM/yyyy\" part from \"01/Jul/1995:00:00:01 -0400\"\n",
        "df_cleaned = df_cleaned.withColumn(\n",
        "    \"date\", regexp_extract(\"date\", r\"(\\d{2}/[A-Za-z]{3}/\\d{4})\", 1)\n",
        ")\n",
        "\n",
        "# Convert to proper DateType (YYYY-MM-DD)\n",
        "df_cleaned = df_cleaned.withColumn(\"date\", to_date(\"date\", \"dd/MMM/yyyy\"))\n",
        "\n",
        "# Show results\n",
        "df_cleaned.select(\"date\").show(5, truncate=False)\n"
      ],
      "metadata": {
        "colab": {
          "base_uri": "https://localhost:8080/"
        },
        "id": "o0nbppxeHd3f",
        "outputId": "7cc41744-c145-4a26-d260-0b861a951993"
      },
      "execution_count": 91,
      "outputs": [
        {
          "output_type": "stream",
          "name": "stdout",
          "text": [
            "+----------+\n",
            "|date      |\n",
            "+----------+\n",
            "|1995-07-01|\n",
            "|1995-07-01|\n",
            "|1995-07-01|\n",
            "|1995-07-01|\n",
            "|1995-07-01|\n",
            "+----------+\n",
            "only showing top 5 rows\n",
            "\n"
          ]
        }
      ]
    },
    {
      "cell_type": "code",
      "source": [
        "# Count the total number of log entries\n",
        "total_log_entries = df_cleaned.count()\n",
        "\n",
        "print(f\"Total number of log entries: {total_log_entries}\")\n"
      ],
      "metadata": {
        "colab": {
          "base_uri": "https://localhost:8080/"
        },
        "id": "i5QVJodDBI5T",
        "outputId": "64230e47-d1dd-4ed7-b0bb-d4df1e5eb04b"
      },
      "execution_count": 32,
      "outputs": [
        {
          "output_type": "stream",
          "name": "stdout",
          "text": [
            "Total number of log entries: 3461613\n"
          ]
        }
      ]
    },
    {
      "cell_type": "code",
      "source": [
        "# Count of unique hosts\n",
        "unique_hosts = df_cleaned.select(\"remotehost\").distinct().count()\n",
        "print(f\"Unique hosts: {unique_hosts}\")\n"
      ],
      "metadata": {
        "colab": {
          "base_uri": "https://localhost:8080/"
        },
        "id": "lnikQSlpouBk",
        "outputId": "59f00ad5-8c60-478c-cc23-f00c29672327"
      },
      "execution_count": 33,
      "outputs": [
        {
          "output_type": "stream",
          "name": "stdout",
          "text": [
            "Unique hosts: 137979\n"
          ]
        }
      ]
    },
    {
      "cell_type": "code",
      "source": [
        "# drop null dates before grouping\n",
        "df_cleaned = df_cleaned.filter(col(\"date\").isNotNull())\n",
        "\n",
        "# Date wise unique host counts\n",
        "datewise_hosts = df_cleaned.groupBy(\n",
        "    date_format(\"date\", \"dd-MMM-yyyy\").alias(\"formatted_date\")\n",
        ").agg(\n",
        "    countDistinct(\"remotehost\").alias(\"unique_hosts\")\n",
        ").orderBy(\"formatted_date\")\n",
        "\n",
        "datewise_hosts.show(truncate=False)"
      ],
      "metadata": {
        "colab": {
          "base_uri": "https://localhost:8080/"
        },
        "id": "wBVCiSkJET1-",
        "outputId": "024e95b7-8b16-413b-bcb4-8404435f79f3"
      },
      "execution_count": 97,
      "outputs": [
        {
          "output_type": "stream",
          "name": "stdout",
          "text": [
            "+--------------+------------+\n",
            "|formatted_date|unique_hosts|\n",
            "+--------------+------------+\n",
            "|01-Aug-1995   |2582        |\n",
            "|01-Jul-1995   |5192        |\n",
            "|02-Jul-1995   |4859        |\n",
            "|03-Aug-1995   |3222        |\n",
            "|03-Jul-1995   |7336        |\n",
            "|04-Aug-1995   |4191        |\n",
            "|04-Jul-1995   |5524        |\n",
            "|05-Aug-1995   |2502        |\n",
            "|05-Jul-1995   |7383        |\n",
            "|06-Aug-1995   |2538        |\n",
            "|06-Jul-1995   |7820        |\n",
            "|07-Aug-1995   |4108        |\n",
            "|07-Jul-1995   |6474        |\n",
            "|08-Aug-1995   |4406        |\n",
            "|08-Jul-1995   |2898        |\n",
            "|09-Aug-1995   |4317        |\n",
            "|09-Jul-1995   |2554        |\n",
            "|10-Aug-1995   |4523        |\n",
            "|10-Jul-1995   |4464        |\n",
            "|11-Aug-1995   |4346        |\n",
            "+--------------+------------+\n",
            "only showing top 20 rows\n",
            "\n"
          ]
        }
      ]
    },
    {
      "cell_type": "code",
      "source": [
        "#Average Requests per Host per Day\n",
        "\n",
        "daily_avg = df_cleaned.groupBy(\n",
        "    date_format(\"date\", \"dd-MMM-yyyy\").alias(\"date\")\n",
        ").agg(\n",
        "    count(\"*\").alias(\"total_requests\"),\n",
        "    countDistinct(\"remotehost\").alias(\"unique_hosts\")\n",
        ").withColumn(\n",
        "    \"avg_requests_per_host\",\n",
        "    (col(\"total_requests\") / col(\"unique_hosts\")).cast(\"DECIMAL(10,2)\")\n",
        ").orderBy(\"date\")\n",
        "\n",
        "daily_avg.show(truncate=False)"
      ],
      "metadata": {
        "colab": {
          "base_uri": "https://localhost:8080/"
        },
        "id": "J5_3ZIDoOhNO",
        "outputId": "8608ba0f-c719-4115-ce1c-e1c676486d69"
      },
      "execution_count": 100,
      "outputs": [
        {
          "output_type": "stream",
          "name": "stdout",
          "text": [
            "+-----------+--------------+------------+---------------------+\n",
            "|date       |total_requests|unique_hosts|avg_requests_per_host|\n",
            "+-----------+--------------+------------+---------------------+\n",
            "|01-Aug-1995|33996         |2582        |13.17                |\n",
            "|01-Jul-1995|64714         |5192        |12.46                |\n",
            "|02-Jul-1995|60265         |4859        |12.40                |\n",
            "|03-Aug-1995|41388         |3222        |12.85                |\n",
            "|03-Jul-1995|89584         |7336        |12.21                |\n",
            "|04-Aug-1995|59557         |4191        |14.21                |\n",
            "|04-Jul-1995|70452         |5524        |12.75                |\n",
            "|05-Aug-1995|31893         |2502        |12.75                |\n",
            "|05-Jul-1995|94575         |7383        |12.81                |\n",
            "|06-Aug-1995|32420         |2538        |12.77                |\n",
            "|06-Jul-1995|100960        |7820        |12.91                |\n",
            "|07-Aug-1995|57362         |4108        |13.96                |\n",
            "|07-Jul-1995|87233         |6474        |13.47                |\n",
            "|08-Aug-1995|60157         |4406        |13.65                |\n",
            "|08-Jul-1995|38867         |2898        |13.41                |\n",
            "|09-Aug-1995|60458         |4317        |14.00                |\n",
            "|09-Jul-1995|35272         |2554        |13.81                |\n",
            "|10-Aug-1995|61248         |4523        |13.54                |\n",
            "|10-Jul-1995|72860         |4464        |16.32                |\n",
            "|11-Aug-1995|61246         |4346        |14.09                |\n",
            "+-----------+--------------+------------+---------------------+\n",
            "only showing top 20 rows\n",
            "\n"
          ]
        }
      ]
    },
    {
      "cell_type": "code",
      "source": [
        "#Number of 404 Response Codes\n",
        "\n",
        "df_404 = df_cleaned.filter(col(\"status\") == 404)\n",
        "count_404 = df_404.count()\n",
        "print(f\"Total number of 404 responses: {count_404}\")\n",
        "\n"
      ],
      "metadata": {
        "colab": {
          "base_uri": "https://localhost:8080/"
        },
        "id": "GpY137sbpBNe",
        "outputId": "30a486ae-7bef-478a-8a11-5baca4c176d2"
      },
      "execution_count": 101,
      "outputs": [
        {
          "output_type": "stream",
          "name": "stdout",
          "text": [
            "Total number of 404 responses: 20901\n"
          ]
        }
      ]
    },
    {
      "cell_type": "code",
      "source": [
        "# Top 15 Endpoints with 404 Responses\n",
        "top_404_hosts = df_cleaned.filter(df_cleaned.status == 404) \\\n",
        "                         .groupBy(\"request\").count() \\\n",
        "                         .orderBy(col(\"count\").desc()) \\\n",
        "                         .limit(15)\n",
        "\n",
        "top_404_hosts.show()"
      ],
      "metadata": {
        "colab": {
          "base_uri": "https://localhost:8080/"
        },
        "id": "sK1AMdyuQvxy",
        "outputId": "e0014d13-a1e4-4dfa-ccf9-94610e6ceec8"
      },
      "execution_count": 105,
      "outputs": [
        {
          "output_type": "stream",
          "name": "stdout",
          "text": [
            "+--------------------+-----+\n",
            "|             request|count|\n",
            "+--------------------+-----+\n",
            "|GET /pub/winvn/re...| 2004|\n",
            "|GET /pub/winvn/re...| 1732|\n",
            "|GET /shuttle/miss...|  682|\n",
            "|GET /shuttle/miss...|  426|\n",
            "|GET /history/apol...|  384|\n",
            "|GET /history/apol...|  383|\n",
            "|GET /://spacelink...|  381|\n",
            "|GET /images/crawl...|  374|\n",
            "|GET /elv/DELTA/un...|  372|\n",
            "|GET /history/apol...|  359|\n",
            "|GET /images/nasa-...|  319|\n",
            "|GET /shuttle/reso...|  310|\n",
            "|GET /history/apol...|  304|\n",
            "|GET /shuttle/reso...|  262|\n",
            "|GET /shuttle/miss...|  190|\n",
            "+--------------------+-----+\n",
            "\n"
          ]
        }
      ]
    },
    {
      "cell_type": "code",
      "source": [
        "# Top 15 Hosts with 404 Responses\n",
        "top_404_hosts = df_cleaned.filter(df_cleaned.status == 404) \\\n",
        "                         .groupBy(\"remotehost\").count() \\\n",
        "                         .orderBy(col(\"count\").desc()) \\\n",
        "                         .limit(15)\n",
        "\n",
        "top_404_hosts.show()\n"
      ],
      "metadata": {
        "colab": {
          "base_uri": "https://localhost:8080/"
        },
        "id": "2CaRqnbqpWmf",
        "outputId": "02ec052e-ab2c-4c41-9d6d-de6e96ea436e"
      },
      "execution_count": 102,
      "outputs": [
        {
          "output_type": "stream",
          "name": "stdout",
          "text": [
            "+--------------------+-----+\n",
            "|          remotehost|count|\n",
            "+--------------------+-----+\n",
            "|hoohoo.ncsa.uiuc.edu|  251|\n",
            "|piweba3y.prodigy.com|  157|\n",
            "|jbiagioni.npt.nuw...|  132|\n",
            "|piweba1y.prodigy.com|  114|\n",
            "|www-d4.proxy.aol.com|   91|\n",
            "|piweba4y.prodigy.com|   86|\n",
            "|scooter.pa-x.dec.com|   69|\n",
            "|www-d1.proxy.aol.com|   64|\n",
            "|phaelon.ksc.nasa.gov|   64|\n",
            "|www-b4.proxy.aol.com|   62|\n",
            "|dialip-217.den.mm...|   62|\n",
            "|www-b3.proxy.aol.com|   61|\n",
            "|www-a2.proxy.aol.com|   60|\n",
            "|piweba2y.prodigy.com|   59|\n",
            "|            titan02f|   59|\n",
            "+--------------------+-----+\n",
            "\n"
          ]
        }
      ]
    }
  ]
}